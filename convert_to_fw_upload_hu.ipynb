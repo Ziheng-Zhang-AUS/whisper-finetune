{
 "cells": [
  {
   "cell_type": "code",
   "execution_count": 38,
   "metadata": {},
   "outputs": [],
   "source": [
    "import shutil\n",
    "from pathlib import Path\n",
    "import os\n",
    "os.environ[\"HF_HOME\"] = \"./cache/huggingface\"\n",
    "from ctranslate2.converters import TransformersConverter\n",
    "from transformers.models.whisper.convert_openai_to_hf import (\n",
    "    convert_openai_whisper_to_tfms,\n",
    ")\n",
    "from huggingface_hub import HfApi\n",
    "from faster_whisper import WhisperModel"
   ]
  },
  {
   "cell_type": "code",
   "execution_count": 39,
   "metadata": {},
   "outputs": [
    {
     "ename": "CommError",
     "evalue": "It appears that you do not have permission to access the requested resource. Please reach out to the project owner to grant you access. If you have the correct permissions, verify that there are no issues with your networking setup.(Error 404: Not Found)",
     "output_type": "error",
     "traceback": [
      "\u001b[0;31m---------------------------------------------------------------------------\u001b[0m",
      "\u001b[0;31mHTTPError\u001b[0m                                 Traceback (most recent call last)",
      "File \u001b[0;32m~/miniconda3/envs/whisper_finetune/lib/python3.9/site-packages/wandb/sdk/lib/retry.py:131\u001b[0m, in \u001b[0;36mRetry.__call__\u001b[0;34m(self, *args, **kwargs)\u001b[0m\n\u001b[1;32m    130\u001b[0m \u001b[38;5;28;01mtry\u001b[39;00m:\n\u001b[0;32m--> 131\u001b[0m     result \u001b[38;5;241m=\u001b[39m \u001b[38;5;28;43mself\u001b[39;49m\u001b[38;5;241;43m.\u001b[39;49m\u001b[43m_call_fn\u001b[49m\u001b[43m(\u001b[49m\u001b[38;5;241;43m*\u001b[39;49m\u001b[43margs\u001b[49m\u001b[43m,\u001b[49m\u001b[43m \u001b[49m\u001b[38;5;241;43m*\u001b[39;49m\u001b[38;5;241;43m*\u001b[39;49m\u001b[43mkwargs\u001b[49m\u001b[43m)\u001b[49m\n\u001b[1;32m    132\u001b[0m     \u001b[38;5;66;03m# Only print resolved attempts once every minute\u001b[39;00m\n",
      "File \u001b[0;32m~/miniconda3/envs/whisper_finetune/lib/python3.9/site-packages/wandb/apis/public/files.py:162\u001b[0m, in \u001b[0;36mFile.download\u001b[0;34m(self, root, replace, exist_ok)\u001b[0m\n\u001b[1;32m    158\u001b[0m         \u001b[38;5;28;01mraise\u001b[39;00m \u001b[38;5;167;01mValueError\u001b[39;00m(\n\u001b[1;32m    159\u001b[0m             \u001b[38;5;124m\"\u001b[39m\u001b[38;5;124mFile already exists, pass replace=True to overwrite or exist_ok=True to leave it as is and don\u001b[39m\u001b[38;5;124m'\u001b[39m\u001b[38;5;124mt error.\u001b[39m\u001b[38;5;124m\"\u001b[39m\n\u001b[1;32m    160\u001b[0m         )\n\u001b[0;32m--> 162\u001b[0m \u001b[43mutil\u001b[49m\u001b[38;5;241;43m.\u001b[39;49m\u001b[43mdownload_file_from_url\u001b[49m\u001b[43m(\u001b[49m\u001b[43mpath\u001b[49m\u001b[43m,\u001b[49m\u001b[43m \u001b[49m\u001b[38;5;28;43mself\u001b[39;49m\u001b[38;5;241;43m.\u001b[39;49m\u001b[43murl\u001b[49m\u001b[43m,\u001b[49m\u001b[43m \u001b[49m\u001b[43mwandb\u001b[49m\u001b[38;5;241;43m.\u001b[39;49m\u001b[43mApi\u001b[49m\u001b[43m(\u001b[49m\u001b[43m)\u001b[49m\u001b[38;5;241;43m.\u001b[39;49m\u001b[43mapi_key\u001b[49m\u001b[43m)\u001b[49m\n\u001b[1;32m    163\u001b[0m \u001b[38;5;28;01mreturn\u001b[39;00m \u001b[38;5;28mopen\u001b[39m(path)\n",
      "File \u001b[0;32m~/miniconda3/envs/whisper_finetune/lib/python3.9/site-packages/wandb/util.py:1318\u001b[0m, in \u001b[0;36mdownload_file_from_url\u001b[0;34m(dest_path, source_url, api_key)\u001b[0m\n\u001b[1;32m   1310\u001b[0m response \u001b[38;5;241m=\u001b[39m requests\u001b[38;5;241m.\u001b[39mget(\n\u001b[1;32m   1311\u001b[0m     source_url,\n\u001b[1;32m   1312\u001b[0m     auth\u001b[38;5;241m=\u001b[39mauth,\n\u001b[0;32m   (...)\u001b[0m\n\u001b[1;32m   1316\u001b[0m     timeout\u001b[38;5;241m=\u001b[39m\u001b[38;5;241m5\u001b[39m,\n\u001b[1;32m   1317\u001b[0m )\n\u001b[0;32m-> 1318\u001b[0m \u001b[43mresponse\u001b[49m\u001b[38;5;241;43m.\u001b[39;49m\u001b[43mraise_for_status\u001b[49m\u001b[43m(\u001b[49m\u001b[43m)\u001b[49m\n\u001b[1;32m   1320\u001b[0m \u001b[38;5;28;01mif\u001b[39;00m os\u001b[38;5;241m.\u001b[39msep \u001b[38;5;129;01min\u001b[39;00m dest_path:\n",
      "File \u001b[0;32m~/miniconda3/envs/whisper_finetune/lib/python3.9/site-packages/requests/models.py:1021\u001b[0m, in \u001b[0;36mResponse.raise_for_status\u001b[0;34m(self)\u001b[0m\n\u001b[1;32m   1020\u001b[0m \u001b[38;5;28;01mif\u001b[39;00m http_error_msg:\n\u001b[0;32m-> 1021\u001b[0m     \u001b[38;5;28;01mraise\u001b[39;00m HTTPError(http_error_msg, response\u001b[38;5;241m=\u001b[39m\u001b[38;5;28mself\u001b[39m)\n",
      "\u001b[0;31mHTTPError\u001b[0m: 404 Client Error: Not Found for url: https://api.wandb.ai/files/i4ds/whisper4sg/8z6vbiwl/42947429_output/best_model.pt",
      "\nDuring handling of the above exception, another exception occurred:\n",
      "\u001b[0;31mCommError\u001b[0m                                 Traceback (most recent call last)",
      "Cell \u001b[0;32mIn[39], line 35\u001b[0m\n\u001b[1;32m     32\u001b[0m save_dir \u001b[38;5;241m=\u001b[39m \u001b[38;5;124m\"\u001b[39m\u001b[38;5;124m./downloaded_models\u001b[39m\u001b[38;5;124m\"\u001b[39m\n\u001b[1;32m     33\u001b[0m hu_model_path \u001b[38;5;241m=\u001b[39m \u001b[38;5;124m\"\u001b[39m\u001b[38;5;124mi4ds/whisper4sg-8-folds-best\u001b[39m\u001b[38;5;124m\"\u001b[39m\n\u001b[0;32m---> 35\u001b[0m model_local_path \u001b[38;5;241m=\u001b[39m \u001b[43mdownload_model_from_wandb\u001b[49m\u001b[43m(\u001b[49m\u001b[43mrun_path\u001b[49m\u001b[43m,\u001b[49m\u001b[43m \u001b[49m\u001b[43mfile_path\u001b[49m\u001b[43m,\u001b[49m\u001b[43m \u001b[49m\u001b[43msave_dir\u001b[49m\u001b[43m)\u001b[49m\n\u001b[1;32m     36\u001b[0m \u001b[38;5;28mprint\u001b[39m(model_local_path)\n",
      "Cell \u001b[0;32mIn[39], line 25\u001b[0m, in \u001b[0;36mdownload_model_from_wandb\u001b[0;34m(run_path, file_path, save_dir)\u001b[0m\n\u001b[1;32m     22\u001b[0m save_path \u001b[38;5;241m=\u001b[39m \u001b[38;5;124mf\u001b[39m\u001b[38;5;124m\"\u001b[39m\u001b[38;5;132;01m{\u001b[39;00msave_dir\u001b[38;5;132;01m}\u001b[39;00m\u001b[38;5;124m/\u001b[39m\u001b[38;5;132;01m{\u001b[39;00mfile_path\u001b[38;5;241m.\u001b[39msplit(\u001b[38;5;124m'\u001b[39m\u001b[38;5;124m/\u001b[39m\u001b[38;5;124m'\u001b[39m)[\u001b[38;5;241m-\u001b[39m\u001b[38;5;241m1\u001b[39m]\u001b[38;5;132;01m}\u001b[39;00m\u001b[38;5;124m\"\u001b[39m\n\u001b[1;32m     24\u001b[0m \u001b[38;5;66;03m# Download the file\u001b[39;00m\n\u001b[0;32m---> 25\u001b[0m \u001b[43mrun\u001b[49m\u001b[38;5;241;43m.\u001b[39;49m\u001b[43mfile\u001b[49m\u001b[43m(\u001b[49m\u001b[43mfile_path\u001b[49m\u001b[43m)\u001b[49m\u001b[38;5;241;43m.\u001b[39;49m\u001b[43mdownload\u001b[49m\u001b[43m(\u001b[49m\u001b[43mroot\u001b[49m\u001b[38;5;241;43m=\u001b[39;49m\u001b[43msave_dir\u001b[49m\u001b[43m,\u001b[49m\u001b[43m \u001b[49m\u001b[43mreplace\u001b[49m\u001b[38;5;241;43m=\u001b[39;49m\u001b[38;5;28;43;01mTrue\u001b[39;49;00m\u001b[43m)\u001b[49m\n\u001b[1;32m     27\u001b[0m \u001b[38;5;28;01mreturn\u001b[39;00m save_path\n",
      "File \u001b[0;32m~/miniconda3/envs/whisper_finetune/lib/python3.9/site-packages/wandb/apis/normalize.py:73\u001b[0m, in \u001b[0;36mnormalize_exceptions.<locals>.wrapper\u001b[0;34m(*args, **kwargs)\u001b[0m\n\u001b[1;32m     69\u001b[0m         \u001b[38;5;28;01mraise\u001b[39;00m CommError(message, err\u001b[38;5;241m.\u001b[39mlast_exception)\u001b[38;5;241m.\u001b[39mwith_traceback(\n\u001b[1;32m     70\u001b[0m             sys\u001b[38;5;241m.\u001b[39mexc_info()[\u001b[38;5;241m2\u001b[39m]\n\u001b[1;32m     71\u001b[0m         )\n\u001b[1;32m     72\u001b[0m \u001b[38;5;28;01mexcept\u001b[39;00m Error \u001b[38;5;28;01mas\u001b[39;00m err:\n\u001b[0;32m---> 73\u001b[0m     \u001b[38;5;28;01mraise\u001b[39;00m err\n\u001b[1;32m     74\u001b[0m \u001b[38;5;28;01mexcept\u001b[39;00m \u001b[38;5;167;01mException\u001b[39;00m \u001b[38;5;28;01mas\u001b[39;00m err:\n\u001b[1;32m     75\u001b[0m     \u001b[38;5;66;03m# gql raises server errors with dict's as strings...\u001b[39;00m\n\u001b[1;32m     76\u001b[0m     \u001b[38;5;28;01mif\u001b[39;00m \u001b[38;5;28mlen\u001b[39m(err\u001b[38;5;241m.\u001b[39margs) \u001b[38;5;241m>\u001b[39m \u001b[38;5;241m0\u001b[39m:\n",
      "File \u001b[0;32m~/miniconda3/envs/whisper_finetune/lib/python3.9/site-packages/wandb/apis/normalize.py:41\u001b[0m, in \u001b[0;36mnormalize_exceptions.<locals>.wrapper\u001b[0;34m(*args, **kwargs)\u001b[0m\n\u001b[1;32m     39\u001b[0m message \u001b[38;5;241m=\u001b[39m \u001b[38;5;124m\"\u001b[39m\u001b[38;5;124mWhoa, you found a bug.\u001b[39m\u001b[38;5;124m\"\u001b[39m\n\u001b[1;32m     40\u001b[0m \u001b[38;5;28;01mtry\u001b[39;00m:\n\u001b[0;32m---> 41\u001b[0m     \u001b[38;5;28;01mreturn\u001b[39;00m \u001b[43mfunc\u001b[49m\u001b[43m(\u001b[49m\u001b[38;5;241;43m*\u001b[39;49m\u001b[43margs\u001b[49m\u001b[43m,\u001b[49m\u001b[43m \u001b[49m\u001b[38;5;241;43m*\u001b[39;49m\u001b[38;5;241;43m*\u001b[39;49m\u001b[43mkwargs\u001b[49m\u001b[43m)\u001b[49m\n\u001b[1;32m     42\u001b[0m \u001b[38;5;28;01mexcept\u001b[39;00m requests\u001b[38;5;241m.\u001b[39mHTTPError \u001b[38;5;28;01mas\u001b[39;00m error:\n\u001b[1;32m     43\u001b[0m     errors \u001b[38;5;241m=\u001b[39m parse_backend_error_messages(error\u001b[38;5;241m.\u001b[39mresponse)\n",
      "File \u001b[0;32m~/miniconda3/envs/whisper_finetune/lib/python3.9/site-packages/wandb/sdk/lib/retry.py:212\u001b[0m, in \u001b[0;36mretriable.<locals>.decorator.<locals>.wrapped_fn\u001b[0;34m(*args, **kargs)\u001b[0m\n\u001b[1;32m    210\u001b[0m \u001b[38;5;129m@functools\u001b[39m\u001b[38;5;241m.\u001b[39mwraps(fn)\n\u001b[1;32m    211\u001b[0m \u001b[38;5;28;01mdef\u001b[39;00m \u001b[38;5;21mwrapped_fn\u001b[39m(\u001b[38;5;241m*\u001b[39margs: Any, \u001b[38;5;241m*\u001b[39m\u001b[38;5;241m*\u001b[39mkargs: Any) \u001b[38;5;241m-\u001b[39m\u001b[38;5;241m>\u001b[39m Any:\n\u001b[0;32m--> 212\u001b[0m     \u001b[38;5;28;01mreturn\u001b[39;00m \u001b[43mretrier\u001b[49m\u001b[43m(\u001b[49m\u001b[38;5;241;43m*\u001b[39;49m\u001b[43margs\u001b[49m\u001b[43m,\u001b[49m\u001b[43m \u001b[49m\u001b[38;5;241;43m*\u001b[39;49m\u001b[38;5;241;43m*\u001b[39;49m\u001b[43mkargs\u001b[49m\u001b[43m)\u001b[49m\n",
      "File \u001b[0;32m~/miniconda3/envs/whisper_finetune/lib/python3.9/site-packages/wandb/sdk/lib/retry.py:147\u001b[0m, in \u001b[0;36mRetry.__call__\u001b[0;34m(self, *args, **kwargs)\u001b[0m\n\u001b[1;32m    144\u001b[0m     \u001b[38;5;28;01mreturn\u001b[39;00m result\n\u001b[1;32m    145\u001b[0m \u001b[38;5;28;01mexcept\u001b[39;00m \u001b[38;5;28mself\u001b[39m\u001b[38;5;241m.\u001b[39m_retryable_exceptions \u001b[38;5;28;01mas\u001b[39;00m e:\n\u001b[1;32m    146\u001b[0m     \u001b[38;5;66;03m# if the secondary check fails, re-raise\u001b[39;00m\n\u001b[0;32m--> 147\u001b[0m     retry_timedelta_triggered \u001b[38;5;241m=\u001b[39m \u001b[43mcheck_retry_fn\u001b[49m\u001b[43m(\u001b[49m\u001b[43me\u001b[49m\u001b[43m)\u001b[49m\n\u001b[1;32m    148\u001b[0m     \u001b[38;5;28;01mif\u001b[39;00m \u001b[38;5;129;01mnot\u001b[39;00m retry_timedelta_triggered:\n\u001b[1;32m    149\u001b[0m         \u001b[38;5;28;01mraise\u001b[39;00m\n",
      "File \u001b[0;32m~/miniconda3/envs/whisper_finetune/lib/python3.9/site-packages/wandb/util.py:907\u001b[0m, in \u001b[0;36mno_retry_auth\u001b[0;34m(e)\u001b[0m\n\u001b[1;32m    905\u001b[0m     \u001b[38;5;28;01mraise\u001b[39;00m CommError(\u001b[38;5;124mf\u001b[39m\u001b[38;5;124m\"\u001b[39m\u001b[38;5;124mPermission denied to access \u001b[39m\u001b[38;5;132;01m{\u001b[39;00mwandb\u001b[38;5;241m.\u001b[39mrun\u001b[38;5;241m.\u001b[39mpath\u001b[38;5;132;01m}\u001b[39;00m\u001b[38;5;124m\"\u001b[39m)\n\u001b[1;32m    906\u001b[0m \u001b[38;5;28;01melse\u001b[39;00m:\n\u001b[0;32m--> 907\u001b[0m     \u001b[38;5;28;01mraise\u001b[39;00m CommError(\n\u001b[1;32m    908\u001b[0m         \u001b[38;5;124m\"\u001b[39m\u001b[38;5;124mIt appears that you do not have permission to access the requested resource. \u001b[39m\u001b[38;5;124m\"\u001b[39m\n\u001b[1;32m    909\u001b[0m         \u001b[38;5;124m\"\u001b[39m\u001b[38;5;124mPlease reach out to the project owner to grant you access. \u001b[39m\u001b[38;5;124m\"\u001b[39m\n\u001b[1;32m    910\u001b[0m         \u001b[38;5;124m\"\u001b[39m\u001b[38;5;124mIf you have the correct permissions, verify that there are no issues with your networking setup.\u001b[39m\u001b[38;5;124m\"\u001b[39m\n\u001b[1;32m    911\u001b[0m         \u001b[38;5;124mf\u001b[39m\u001b[38;5;124m\"\u001b[39m\u001b[38;5;124m(Error \u001b[39m\u001b[38;5;132;01m{\u001b[39;00me\u001b[38;5;241m.\u001b[39mresponse\u001b[38;5;241m.\u001b[39mstatus_code\u001b[38;5;132;01m}\u001b[39;00m\u001b[38;5;124m: \u001b[39m\u001b[38;5;132;01m{\u001b[39;00me\u001b[38;5;241m.\u001b[39mresponse\u001b[38;5;241m.\u001b[39mreason\u001b[38;5;132;01m}\u001b[39;00m\u001b[38;5;124m)\u001b[39m\u001b[38;5;124m\"\u001b[39m\n\u001b[1;32m    912\u001b[0m     )\n",
      "\u001b[0;31mCommError\u001b[0m: It appears that you do not have permission to access the requested resource. Please reach out to the project owner to grant you access. If you have the correct permissions, verify that there are no issues with your networking setup.(Error 404: Not Found)"
     ]
    }
   ],
   "source": [
    "import wandb\n",
    "\n",
    "def download_model_from_wandb(run_path: str, file_path: str, save_dir: str) -> str:\n",
    "    \"\"\"\n",
    "    Download a model file from Weights & Biases and return the local file path.\n",
    "\n",
    "    Parameters:\n",
    "    - run_path: str. Path to the W&B run, e.g., \"i4ds/whisper4sg/runs/28z8x0k4\".\n",
    "    - file_path: str. Path to the file in the W&B run, e.g., \"40569234_output/last_model.pt\".\n",
    "    - save_dir: str. Local directory to save the file.\n",
    "\n",
    "    Returns:\n",
    "    - str: The local path to the downloaded file.\n",
    "    \"\"\"\n",
    "    # Initialize W&B API\n",
    "    api = wandb.Api()\n",
    "\n",
    "    # Fetch the run\n",
    "    run = api.run(run_path)\n",
    "\n",
    "    # File save path\n",
    "    save_path = f\"{save_dir}/{file_path.split('/')[-1]}\"\n",
    "\n",
    "    # Download the file\n",
    "    run.file(file_path).download(root=save_dir, replace=True)\n",
    "\n",
    "    return save_path\n",
    "\n",
    "# Example usage\n",
    "run_path = \"i4ds/whisper4sg/runs/8z6vbiwl\"\n",
    "file_path = \"42907404_output/best_model.pt\"\n",
    "save_dir = \"./downloaded_models\"\n",
    "hu_model_path = \"i4ds/whisper4sg-8-folds-best\"\n",
    "\n",
    "model_local_path = download_model_from_wandb(run_path, file_path, save_dir)\n",
    "print(model_local_path)\n"
   ]
  },
  {
   "cell_type": "code",
   "execution_count": null,
   "metadata": {},
   "outputs": [],
   "source": [
    "hf_model_folder = Path(save_dir, 'hf_model')\n",
    "hf_model_folder.mkdir(exist_ok=True)\n",
    "ctranslate2_model_folder = Path('ct2_output')\n",
    "\n",
    "# Convert to Huggingface Model\n",
    "hf_model = convert_openai_whisper_to_tfms(os.path.join(save_dir, file_path), hf_model_folder)"
   ]
  },
  {
   "cell_type": "code",
   "execution_count": null,
   "metadata": {},
   "outputs": [],
   "source": [
    "hf_model[0].save_pretrained(hf_model_folder)"
   ]
  },
  {
   "cell_type": "code",
   "execution_count": null,
   "metadata": {},
   "outputs": [],
   "source": [
    "shutil.copyfile(\"cache/tokenizer.json\", Path(hf_model_folder, \"tokenizer.json\"))\n",
    "shutil.copyfile(\"cache/config.json\", Path(hf_model_folder, \"config.json\"))\n",
    "\n",
    "# Create readme\n",
    "readme_content = f\"\"\"\n",
    "# Model Information\n",
    "\n",
    "This folder contains a converted model using ctranslate2.\n",
    "\n",
    "## Wandb log\n",
    "https://wandb.ai/{run_path}\n",
    "\n",
    "## Files\n",
    "- `tokenizer.json`: Tokenizer file.\n",
    "- `config.json`: Configuration file.\n",
    "\n",
    "## Conversion Details\n",
    "The model was converted to ctranslate2 format with float16 quantization.\n",
    "\"\"\"\n",
    "with open(Path(hf_model_folder, \"README.md\"), 'w') as f:\n",
    "    f.write(readme_content)\n",
    "\n",
    "# Convert to ctranslate2\n",
    "converter = TransformersConverter(\n",
    "    hf_model_folder,\n",
    "    copy_files=[\"tokenizer.json\", \"README.md\"],\n",
    "    load_as_float16=True \n",
    ")\n",
    "\n",
    "converter.convert(output_dir=ctranslate2_model_folder, quantization=\"float16\")"
   ]
  },
  {
   "cell_type": "code",
   "execution_count": null,
   "metadata": {},
   "outputs": [],
   "source": [
    "api = HfApi()\n",
    "api.upload_folder(\n",
    "    folder_path=\"ct2_output\",\n",
    "    repo_id=hu_model_path,\n",
    "    repo_type='model',\n",
    ")"
   ]
  },
  {
   "cell_type": "code",
   "execution_count": null,
   "metadata": {},
   "outputs": [],
   "source": [
    "model = WhisperModel(hu_model_path, device=\"cuda\", compute_type=\"float16\")"
   ]
  },
  {
   "cell_type": "code",
   "execution_count": null,
   "metadata": {},
   "outputs": [],
   "source": [
    "segments, info = model.transcribe(\"01d2eb96-4aa2-488d-ae29-22a57c3acc10_79311_109311.mp3\", beam_size=5)"
   ]
  },
  {
   "cell_type": "code",
   "execution_count": null,
   "metadata": {},
   "outputs": [],
   "source": [
    "print(\"Detected language '%s' with probability %f\" % (info.language, info.language_probability))\n",
    "\n",
    "for segment in segments:\n",
    "    print(\"[%.2fs -> %.2fs] %s\" % (segment.start, segment.end, segment.text))"
   ]
  }
 ],
 "metadata": {
  "kernelspec": {
   "display_name": "whisper_finetune",
   "language": "python",
   "name": "python3"
  },
  "language_info": {
   "codemirror_mode": {
    "name": "ipython",
    "version": 3
   },
   "file_extension": ".py",
   "mimetype": "text/x-python",
   "name": "python",
   "nbconvert_exporter": "python",
   "pygments_lexer": "ipython3",
   "version": "3.9.18"
  }
 },
 "nbformat": 4,
 "nbformat_minor": 2
}
