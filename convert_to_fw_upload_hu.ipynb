{
 "cells": [
  {
   "cell_type": "code",
   "execution_count": 1,
   "metadata": {},
   "outputs": [
    {
     "name": "stderr",
     "output_type": "stream",
     "text": [
      "/home/kenfus/miniconda3/envs/whisper_finetune/lib/python3.9/site-packages/tqdm/auto.py:21: TqdmWarning: IProgress not found. Please update jupyter and ipywidgets. See https://ipywidgets.readthedocs.io/en/stable/user_install.html\n",
      "  from .autonotebook import tqdm as notebook_tqdm\n",
      "/home/kenfus/miniconda3/envs/whisper_finetune/lib/python3.9/site-packages/transformers/utils/hub.py:124: FutureWarning: Using `TRANSFORMERS_CACHE` is deprecated and will be removed in v5 of Transformers. Use `HF_HOME` instead.\n",
      "  warnings.warn(\n"
     ]
    }
   ],
   "source": [
    "import shutil\n",
    "from pathlib import Path\n",
    "import os\n",
    "os.environ[\"HF_HOME\"] = \"./cache/huggingface\"\n",
    "os.environ['TRANSFORMERS_CACHE'] = \"./cache/huggingface/t_cache\"\n",
    "from ctranslate2.converters import TransformersConverter\n",
    "from transformers.models.whisper.convert_openai_to_hf import (\n",
    "    convert_openai_whisper_to_tfms,\n",
    ")\n",
    "from huggingface_hub import HfApi\n",
    "from faster_whisper import WhisperModel"
   ]
  },
  {
   "cell_type": "code",
   "execution_count": 2,
   "metadata": {},
   "outputs": [
    {
     "name": "stdout",
     "output_type": "stream",
     "text": [
      "./downloaded_models/last_model.pt\n"
     ]
    }
   ],
   "source": [
    "import wandb\n",
    "\n",
    "def download_model_from_wandb(run_path: str, file_path: str, save_dir: str) -> str:\n",
    "    \"\"\"\n",
    "    Download a model file from Weights & Biases and return the local file path.\n",
    "\n",
    "    Parameters:\n",
    "    - run_path: str. Path to the W&B run, e.g., \"i4ds/whisper4sg/runs/28z8x0k4\".\n",
    "    - file_path: str. Path to the file in the W&B run, e.g., \"40569234_output/last_model.pt\".\n",
    "    - save_dir: str. Local directory to save the file.\n",
    "\n",
    "    Returns:\n",
    "    - str: The local path to the downloaded file.\n",
    "    \"\"\"\n",
    "    # Initialize W&B API\n",
    "    api = wandb.Api()\n",
    "\n",
    "    # Fetch the run\n",
    "    run = api.run(run_path)\n",
    "\n",
    "    # File save path\n",
    "    save_path = f\"{save_dir}/{file_path.split('/')[-1]}\"\n",
    "\n",
    "    # Download the file\n",
    "    run.file(file_path).download(root=save_dir, replace=True)\n",
    "\n",
    "    return save_path\n",
    "\n",
    "# Example usage\n",
    "run_path = \"i4ds/whisper4sg/runs/lnzhlfdj\"\n",
    "file_path = \"56641473_output/last_model.pt\"\n",
    "save_dir = \"./downloaded_models\"\n",
    "hu_model_path = \"i4ds/whisper4sg-srg-v2-full-mc-de-sg-corpus-v2\"\n",
    "\n",
    "model_local_path = download_model_from_wandb(run_path, file_path, save_dir)\n",
    "print(model_local_path)"
   ]
  },
  {
   "cell_type": "code",
   "execution_count": null,
   "metadata": {},
   "outputs": [],
   "source": [
    "hf_model_folder = Path(save_dir, 'hf_model')\n",
    "hf_model_folder.mkdir(exist_ok=True)\n",
    "ctranslate2_model_folder = Path('ct2_output')\n",
    "\n",
    "# Convert to Huggingface Model\n",
    "hf_model = convert_openai_whisper_to_tfms(os.path.join(save_dir, file_path), hf_model_folder)"
   ]
  },
  {
   "cell_type": "code",
   "execution_count": 4,
   "metadata": {},
   "outputs": [
    {
     "name": "stderr",
     "output_type": "stream",
     "text": [
      "Some non-default generation parameters are set in the model config. These should go into a GenerationConfig file (https://huggingface.co/docs/transformers/generation_strategies#save-a-custom-decoding-strategy-with-your-model) instead. This warning will be raised to an exception in v4.41.\n",
      "Non-default generation parameters: {'begin_suppress_tokens': [220, 50256]}\n"
     ]
    }
   ],
   "source": [
    "hf_model[0].save_pretrained(hf_model_folder)"
   ]
  },
  {
   "cell_type": "code",
   "execution_count": null,
   "metadata": {},
   "outputs": [],
   "source": [
    "shutil.copyfile(\"cache/tokenizer.json\", Path(hf_model_folder, \"tokenizer.json\"))\n",
    "shutil.copyfile(\"cache/config.json\", Path(hf_model_folder, \"config.json\"))\n",
    "\n",
    "# Create readme\n",
    "readme_content = f\"\"\"\n",
    "# Model Information\n",
    "\n",
    "This folder contains a converted model using ctranslate2.\n",
    "\n",
    "## Wandb log\n",
    "https://wandb.ai/{run_path}\n",
    "\n",
    "## Files\n",
    "- `tokenizer.json`: Tokenizer file.\n",
    "- `config.json`: Configuration file.\n",
    "\n",
    "## Conversion Details\n",
    "The model was converted to ctranslate2 format with float16 quantization.\n",
    "\n",
    "## Data\n",
    "Model was trained on the full sg corpus, with part of the mozilla common voice 13.0 dataset and SRG data translated by whisperx.\n",
    "\"\"\"\n",
    "with open(Path(hf_model_folder, \"README.md\"), 'w') as f:\n",
    "    f.write(readme_content)\n",
    "\n",
    "# Convert to ctranslate2\n",
    "converter = TransformersConverter(\n",
    "    hf_model_folder,\n",
    "    copy_files=[\"tokenizer.json\", \"README.md\"],\n",
    "    load_as_float16=True \n",
    ")\n",
    "\n",
    "converter.convert(output_dir=ctranslate2_model_folder, quantization=\"float16\", force=True)"
   ]
  },
  {
   "cell_type": "code",
   "execution_count": 8,
   "metadata": {},
   "outputs": [
    {
     "name": "stderr",
     "output_type": "stream",
     "text": [
      "model.bin: 100%|██████████| 3.09G/3.09G [02:15<00:00, 22.8MB/s]\n"
     ]
    },
    {
     "data": {
      "text/plain": [
       "CommitInfo(commit_url='https://huggingface.co/i4ds/whisper4sg-srg-v2-full-mc-de-sg-corpus-v2/commit/40d87fed2e282d9cb9843b9d1c9b04dee3725cde', commit_message='Upload folder using huggingface_hub', commit_description='', oid='40d87fed2e282d9cb9843b9d1c9b04dee3725cde', pr_url=None, pr_revision=None, pr_num=None)"
      ]
     },
     "execution_count": 8,
     "metadata": {},
     "output_type": "execute_result"
    }
   ],
   "source": [
    "api = HfApi()\n",
    "api.upload_folder(\n",
    "    folder_path=\"ct2_output\",\n",
    "    repo_id=hu_model_path,\n",
    "    repo_type='model',\n",
    ")"
   ]
  },
  {
   "cell_type": "code",
   "execution_count": 9,
   "metadata": {},
   "outputs": [
    {
     "name": "stderr",
     "output_type": "stream",
     "text": [
      "model.bin:   5%|▌         | 157M/3.09G [00:04<01:22, 35.6MB/s] Error while downloading from https://cdn-lfs-us-1.huggingface.co/repos/32/73/3273e9a0187db7e11e5e3be8a9ffc032d9fa82f144e40e72599f4779325c3a09/4ff9709db692c3bcb999eacfb1989c4d3ea80963dbda9eea8b0e9605e8515ed5?response-content-disposition=attachment%3B+filename*%3DUTF-8%27%27model.bin%3B+filename%3D%22model.bin%22%3B&response-content-type=application%2Foctet-stream&Expires=1715250216&Policy=eyJTdGF0ZW1lbnQiOlt7IkNvbmRpdGlvbiI6eyJEYXRlTGVzc1RoYW4iOnsiQVdTOkVwb2NoVGltZSI6MTcxNTI1MDIxNn19LCJSZXNvdXJjZSI6Imh0dHBzOi8vY2RuLWxmcy11cy0xLmh1Z2dpbmdmYWNlLmNvL3JlcG9zLzMyLzczLzMyNzNlOWEwMTg3ZGI3ZTExZTVlM2JlOGE5ZmZjMDMyZDlmYTgyZjE0NGU0MGU3MjU5OWY0Nzc5MzI1YzNhMDkvNGZmOTcwOWRiNjkyYzNiY2I5OTllYWNmYjE5ODljNGQzZWE4MDk2M2RiZGE5ZWVhOGIwZTk2MDVlODUxNWVkNT9yZXNwb25zZS1jb250ZW50LWRpc3Bvc2l0aW9uPSomcmVzcG9uc2UtY29udGVudC10eXBlPSoifV19&Signature=CK1gtmJ%7E6w6YALOrTCv77GnDnhhsRNnPI8pXYmKZRf4hxYdD56mw5cOH-cfP2sjjC18kJjRdnoFWOsXRJ5Nl1tlv1oablXw0ICJejWdJTLNn04Oo-E9eAeyGZbEsciYGJ%7Eu0TsL-a9Ke0wFRWOsTW2UQHWfzjH79r1q2XfizYcTcagz-bXLq8HL5ksiP01rLoZarKAgvD5s9FudLwqZJe25UmkU2JFNQe5F2wnbExFlmKSv14JirwTp0kMuM8Q3ImjhiB4ttOq9ORjg3DaXtOXmeksDzTVWx5LhEPaEIhNe88qIB3r1qC7mXslqPnAtlcQiLv9SPcBTQRkgVcFZwxA__&Key-Pair-Id=KCD77M1F0VK2B: HTTPSConnectionPool(host='cdn-lfs-us-1.huggingface.co', port=443): Read timed out.\n",
      "Trying to resume download...\n",
      "model.bin: 100%|██████████| 3.09G/3.09G [02:59<00:00, 16.3MB/s]\n",
      "model.bin:   5%|▌         | 157M/3.09G [03:15<1:00:42, 804kB/s]\n"
     ]
    }
   ],
   "source": [
    "model = WhisperModel(hu_model_path, device=\"cuda\", compute_type=\"float16\")"
   ]
  },
  {
   "cell_type": "code",
   "execution_count": 10,
   "metadata": {},
   "outputs": [],
   "source": [
    "MP3_PATH = \"Schönleber_1.mp3\""
   ]
  },
  {
   "cell_type": "code",
   "execution_count": 11,
   "metadata": {},
   "outputs": [],
   "source": [
    "segments, info = model.transcribe(MP3_PATH, beam_size=5, language='de', initial_prompt='Schönleber, Tür Löhr, Tele-Health-Medizin am Apparat', max_initial_timestamp=1)"
   ]
  },
  {
   "cell_type": "code",
   "execution_count": 12,
   "metadata": {},
   "outputs": [],
   "source": [
    "# to use pysubs2, the argument must be a segment list-of-dicts\n",
    "results= []\n",
    "for s in segments:\n",
    "    segment_dict = {'start':s.start,'end':s.end,'text':s.text}\n",
    "    results.append(segment_dict)"
   ]
  },
  {
   "cell_type": "code",
   "execution_count": 13,
   "metadata": {},
   "outputs": [],
   "source": [
    "import pysubs2\n",
    "\n",
    "subs = pysubs2.load_from_whisper(results)\n",
    "SRT_PATH = hu_model_path.split('/')[1] + '_' + MP3_PATH.replace('.mp3','.srt')\n",
    "subs.save(SRT_PATH)"
   ]
  }
 ],
 "metadata": {
  "kernelspec": {
   "display_name": "whisper_finetune",
   "language": "python",
   "name": "python3"
  },
  "language_info": {
   "codemirror_mode": {
    "name": "ipython",
    "version": 3
   },
   "file_extension": ".py",
   "mimetype": "text/x-python",
   "name": "python",
   "nbconvert_exporter": "python",
   "pygments_lexer": "ipython3",
   "version": "3.9.18"
  }
 },
 "nbformat": 4,
 "nbformat_minor": 2
}
