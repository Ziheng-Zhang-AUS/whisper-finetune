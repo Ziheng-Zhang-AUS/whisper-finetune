{
 "cells": [
  {
   "cell_type": "code",
   "execution_count": 1,
   "metadata": {},
   "outputs": [],
   "source": [
    "from faster_whisper import WhisperModel\n",
    "model = WhisperModel(\"i4ds/whisper4sg-srg-full-mc-de-sg-corpus\", \"cuda\", compute_type='float16')\n"
   ]
  },
  {
   "cell_type": "code",
   "execution_count": 7,
   "metadata": {},
   "outputs": [],
   "source": [
    "MP3_PATH = \"Schönleber_1.mp3\""
   ]
  },
  {
   "cell_type": "code",
   "execution_count": 11,
   "metadata": {},
   "outputs": [],
   "source": [
    "segments, info = model.transcribe(MP3_PATH, beam_size=5, language='de', vad_filter=True)"
   ]
  },
  {
   "cell_type": "code",
   "execution_count": 12,
   "metadata": {},
   "outputs": [],
   "source": [
    "# to use pysubs2, the argument must be a segment list-of-dicts\n",
    "results= []\n",
    "for s in segments:\n",
    "    segment_dict = {'start':s.start,'end':s.end,'text':s.text}\n",
    "    results.append(segment_dict)"
   ]
  },
  {
   "cell_type": "code",
   "execution_count": 13,
   "metadata": {},
   "outputs": [],
   "source": [
    "import pysubs2\n",
    "\n",
    "subs = pysubs2.load_from_whisper(results)\n",
    "SRT_PATH = MP3_PATH.replace('.mp3', '.srt')\n",
    "subs.save(SRT_PATH)"
   ]
  }
 ],
 "metadata": {
  "kernelspec": {
   "display_name": "whisper_finetune",
   "language": "python",
   "name": "python3"
  },
  "language_info": {
   "codemirror_mode": {
    "name": "ipython",
    "version": 3
   },
   "file_extension": ".py",
   "mimetype": "text/x-python",
   "name": "python",
   "nbconvert_exporter": "python",
   "pygments_lexer": "ipython3",
   "version": "3.9.18"
  }
 },
 "nbformat": 4,
 "nbformat_minor": 2
}
