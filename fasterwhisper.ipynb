{
 "cells": [
  {
   "cell_type": "code",
   "execution_count": 1,
   "metadata": {},
   "outputs": [
    {
     "name": "stderr",
     "output_type": "stream",
     "text": [
      "/home/kenfus/miniconda3/envs/whisper_finetune/lib/python3.9/site-packages/tqdm/auto.py:21: TqdmWarning: IProgress not found. Please update jupyter and ipywidgets. See https://ipywidgets.readthedocs.io/en/stable/user_install.html\n",
      "  from .autonotebook import tqdm as notebook_tqdm\n"
     ]
    }
   ],
   "source": [
    "from faster_whisper import WhisperModel\n",
    "model = WhisperModel(\"i4ds/whisper4sg-real-srg-sg-corpus\", \"cuda\", compute_type='float16')"
   ]
  },
  {
   "cell_type": "code",
   "execution_count": 2,
   "metadata": {},
   "outputs": [],
   "source": [
    "import logging\n",
    "# Configure logging\n",
    "logging.basicConfig(level=logging.DEBUG,\n",
    "                    format='%(asctime)s - %(name)s - %(levelname)s - %(message)s')\n",
    "\n",
    "# Create a file handler that logs even debug messages\n",
    "file_handler = logging.FileHandler('application.log')\n",
    "file_handler.setLevel(logging.DEBUG)\n",
    "file_handler.setFormatter(logging.Formatter('%(asctime)s - %(name)s - %(levelname)s - %(message)s'))\n",
    "\n",
    "\n",
    "# Add the file handler to the logger\n",
    "model.logger.addHandler(file_handler)"
   ]
  },
  {
   "cell_type": "code",
   "execution_count": 3,
   "metadata": {},
   "outputs": [],
   "source": [
    "MP3_PATH = 'Schönleber_1.mp3'"
   ]
  },
  {
   "cell_type": "code",
   "execution_count": 4,
   "metadata": {},
   "outputs": [
    {
     "name": "stderr",
     "output_type": "stream",
     "text": [
      "2024-04-30 15:51:26,309 - faster_whisper - INFO - Processing audio with duration 12:55.035\n",
      "2024-04-30 15:51:28,055 - faster_whisper - INFO - VAD filter removed 00:23.152 of audio\n",
      "2024-04-30 15:51:28,056 - faster_whisper - DEBUG - VAD filter kept the following audio segments: [00:01.136 -> 00:11.280], [00:12.784 -> 01:47.600], [01:48.912 -> 02:19.472], [02:21.872 -> 02:34.896], [02:37.040 -> 03:55.152], [03:56.528 -> 05:02.480], [05:03.856 -> 05:20.976], [05:22.736 -> 05:36.720], [05:38.032 -> 07:00.752], [07:03.856 -> 08:21.136], [08:22.448 -> 09:51.568], [09:54.608 -> 11:33.520], [11:34.896 -> 12:55.035]\n"
     ]
    }
   ],
   "source": [
    "segments, info = model.transcribe(MP3_PATH, beam_size=5, language='de') #, vad_filter=True, log_prob_threshold=-5, temperature=0, vad_parameters={'threshold': 0.9})"
   ]
  },
  {
   "cell_type": "code",
   "execution_count": 5,
   "metadata": {},
   "outputs": [
    {
     "name": "stderr",
     "output_type": "stream",
     "text": [
      "2024-04-30 15:51:28,902 - faster_whisper - DEBUG - Processing segment at 00:00.000\n",
      "2024-04-30 15:51:49,145 - faster_whisper - DEBUG - Processing segment at 00:27.600\n"
     ]
    }
   ],
   "source": [
    "# to use pysubs2, the argument must be a segment list-of-dicts\n",
    "results= []\n",
    "for s in segments:\n",
    "    segment_dict = {'start':s.start,'end':s.end,'text':s.text}\n",
    "    results.append(segment_dict)"
   ]
  },
  {
   "cell_type": "code",
   "execution_count": null,
   "metadata": {},
   "outputs": [
    {
     "data": {
      "text/plain": [
       "[{'start': 51.18, 'end': 58.14, 'text': ' Sind alle bereit?'},\n",
       " {'start': 58.14, 'end': 60.14, 'text': ' Wir schreiten zur Abstimmung.'},\n",
       " {'start': 60.14, 'end': 63.46, 'text': ' Ich bitte alle,'},\n",
       " {'start': 63.46, 'end': 65.46, 'text': ' die für die Annahme'},\n",
       " {'start': 65.46, 'end': 67.46, 'text': ' dieser Initiative sind,'},\n",
       " {'start': 67.46, 'end': 69.46, 'text': ' Handzeichen zu geben.'},\n",
       " {'start': 69.46, 'end': 81.47, 'text': ' Wie viele?'},\n",
       " {'start': 81.47, 'end': 83.47, 'text': ' Was?'},\n",
       " {'start': 83.47, 'end': 101.02, 'text': ' Enthalten.'},\n",
       " {'start': 101.02, 'end': 103.02, 'text': ' Enthalten.'},\n",
       " {'start': 103.02, 'end': 111.78, 'text': ' Nein.'},\n",
       " {'start': 111.78, 'end': 113.78, 'text': ' Ich habe nichts verstanden.'},\n",
       " {'start': 115.78, 'end': 117.78, 'text': ' Was?'},\n",
       " {'start': 123.26, 'end': 125.26, 'text': ' Nicht so lustig.'},\n",
       " {'start': 125.26, 'end': 127.26, 'text': ' Schau, da habe ich eine Gummi.'},\n",
       " {'start': 127.26, 'end': 139.38, 'text': ' Enthaltungen?'},\n",
       " {'start': 139.38, 'end': 141.38, 'text': ' 23 zu 12 abgelehnt.'},\n",
       " {'start': 141.38, 'end': 143.38, 'text': ' Die Initiative'},\n",
       " {'start': 143.38, 'end': 145.38, 'text': ' wurde 23 zu 12'},\n",
       " {'start': 145.38, 'end': 147.38, 'text': ' vom GGR abgelehnt.'},\n",
       " {'start': 147.38, 'end': 154.78, 'text': ' Gut, wir kommen zum Traktandum'}]"
      ]
     },
     "execution_count": 55,
     "metadata": {},
     "output_type": "execute_result"
    }
   ],
   "source": [
    "results"
   ]
  },
  {
   "cell_type": "code",
   "execution_count": null,
   "metadata": {},
   "outputs": [],
   "source": [
    "import pysubs2\n",
    "\n",
    "subs = pysubs2.load_from_whisper(results)\n",
    "SRT_PATH = MP3_PATH.replace('.mp3', '.srt')\n",
    "subs.save(SRT_PATH)"
   ]
  }
 ],
 "metadata": {
  "kernelspec": {
   "display_name": "whisper_finetune",
   "language": "python",
   "name": "python3"
  },
  "language_info": {
   "codemirror_mode": {
    "name": "ipython",
    "version": 3
   },
   "file_extension": ".py",
   "mimetype": "text/x-python",
   "name": "python",
   "nbconvert_exporter": "python",
   "pygments_lexer": "ipython3",
   "version": "3.9.18"
  }
 },
 "nbformat": 4,
 "nbformat_minor": 2
}
