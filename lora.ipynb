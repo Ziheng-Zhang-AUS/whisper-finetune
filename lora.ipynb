{
 "cells": [
  {
   "cell_type": "code",
   "execution_count": 1,
   "metadata": {},
   "outputs": [],
   "source": [
    "import whisper\n",
    "import torch.nn as nn\n",
    "from minlora import add_lora\n",
    "from functools import partial\n",
    "import torch"
   ]
  },
  {
   "cell_type": "code",
   "execution_count": 16,
   "metadata": {},
   "outputs": [],
   "source": [
    "whisper_model = whisper.load_model('tiny', device=\"cpu\")"
   ]
  },
  {
   "cell_type": "code",
   "execution_count": 17,
   "metadata": {},
   "outputs": [],
   "source": [
    "from minlora import LoRAParametrization, add_lora, get_lora_params\n",
    "\n",
    "from whisper_finetune.model.lora import (\n",
    "    set_all_requires_grad_to_false, disable_all_but_parametrized_grads_except\n",
    ")\n",
    "from whisper_finetune.utils import print_trainable_parameters\n",
    "# Create LORA config\n",
    "linear = torch.nn.Linear \n",
    "lora_config = {\n",
    "    linear: {\n",
    "        \"weight\": partial(LoRAParametrization.from_linear, rank=5),\n",
    "    },\n",
    "}"
   ]
  },
  {
   "cell_type": "code",
   "execution_count": 18,
   "metadata": {},
   "outputs": [
    {
     "name": "stdout",
     "output_type": "stream",
     "text": [
      "Number of trainable parameters: 37,184,640 out of total 37,184,640.\n"
     ]
    }
   ],
   "source": [
    "print_trainable_parameters(whisper_model)"
   ]
  },
  {
   "cell_type": "code",
   "execution_count": 19,
   "metadata": {},
   "outputs": [],
   "source": [
    "add_lora(whisper_model)"
   ]
  },
  {
   "cell_type": "code",
   "execution_count": 20,
   "metadata": {},
   "outputs": [],
   "source": [
    "disable_all_but_parametrized_grads_except(whisper_model)"
   ]
  },
  {
   "cell_type": "code",
   "execution_count": 21,
   "metadata": {},
   "outputs": [
    {
     "name": "stdout",
     "output_type": "stream",
     "text": [
      "Number of trainable parameters: 29,184 out of total 37,454,976.\n"
     ]
    }
   ],
   "source": [
    "print_trainable_parameters(whisper_model)"
   ]
  },
  {
   "cell_type": "code",
   "execution_count": null,
   "metadata": {},
   "outputs": [],
   "source": []
  }
 ],
 "metadata": {
  "kernelspec": {
   "display_name": "whisper_finetune",
   "language": "python",
   "name": "python3"
  },
  "language_info": {
   "codemirror_mode": {
    "name": "ipython",
    "version": 3
   },
   "file_extension": ".py",
   "mimetype": "text/x-python",
   "name": "python",
   "nbconvert_exporter": "python",
   "pygments_lexer": "ipython3",
   "version": "3.9.18"
  }
 },
 "nbformat": 4,
 "nbformat_minor": 2
}
