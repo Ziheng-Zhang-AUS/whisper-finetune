{
 "cells": [
  {
   "cell_type": "code",
   "execution_count": 1,
   "metadata": {},
   "outputs": [],
   "source": [
    "import whisper\n",
    "import torch.nn as nn\n",
    "from minlora import add_lora\n",
    "from functools import partial\n",
    "import torch"
   ]
  },
  {
   "cell_type": "code",
   "execution_count": 2,
   "metadata": {},
   "outputs": [],
   "source": [
    "whisper_model = whisper.load_model('small', device=\"cpu\")"
   ]
  },
  {
   "cell_type": "code",
   "execution_count": 5,
   "metadata": {},
   "outputs": [],
   "source": [
    "from minlora import LoRAParametrization, add_lora, get_lora_params, add_lora_by_name\n",
    "\n",
    "from whisper_finetune.model.lora import (\n",
    "    set_all_requires_grad_to_false, disable_all_but_parametrized_grads\n",
    ")\n",
    "from whisper_finetune.utils import print_trainable_parameters\n",
    "# Create LORA config\n",
    "linear = torch.nn.Linear \n",
    "lora_config = {\n",
    "    linear: {\n",
    "        \"weight\": partial(LoRAParametrization.from_linear, rank=5),\n",
    "    },\n",
    "}"
   ]
  },
  {
   "cell_type": "code",
   "execution_count": 6,
   "metadata": {},
   "outputs": [],
   "source": [
    "add_lora_by_name(whisper_model, ['query'], lora_config)"
   ]
  },
  {
   "cell_type": "code",
   "execution_count": 7,
   "metadata": {},
   "outputs": [
    {
     "data": {
      "text/plain": [
       "Whisper(\n",
       "  (encoder): AudioEncoder(\n",
       "    (conv1): Conv1d(80, 768, kernel_size=(3,), stride=(1,), padding=(1,))\n",
       "    (conv2): Conv1d(768, 768, kernel_size=(3,), stride=(2,), padding=(1,))\n",
       "    (blocks): ModuleList(\n",
       "      (0-11): 12 x ResidualAttentionBlock(\n",
       "        (attn): MultiHeadAttention(\n",
       "          (query): ParametrizedLinear(\n",
       "            in_features=768, out_features=768, bias=True\n",
       "            (parametrizations): ModuleDict(\n",
       "              (weight): ParametrizationList(\n",
       "                (0): LoRAParametrization()\n",
       "              )\n",
       "            )\n",
       "          )\n",
       "          (key): Linear(in_features=768, out_features=768, bias=False)\n",
       "          (value): Linear(in_features=768, out_features=768, bias=True)\n",
       "          (out): Linear(in_features=768, out_features=768, bias=True)\n",
       "        )\n",
       "        (attn_ln): LayerNorm((768,), eps=1e-05, elementwise_affine=True)\n",
       "        (mlp): Sequential(\n",
       "          (0): Linear(in_features=768, out_features=3072, bias=True)\n",
       "          (1): GELU(approximate='none')\n",
       "          (2): Linear(in_features=3072, out_features=768, bias=True)\n",
       "        )\n",
       "        (mlp_ln): LayerNorm((768,), eps=1e-05, elementwise_affine=True)\n",
       "      )\n",
       "    )\n",
       "    (ln_post): LayerNorm((768,), eps=1e-05, elementwise_affine=True)\n",
       "  )\n",
       "  (decoder): TextDecoder(\n",
       "    (token_embedding): Embedding(51865, 768)\n",
       "    (blocks): ModuleList(\n",
       "      (0-11): 12 x ResidualAttentionBlock(\n",
       "        (attn): MultiHeadAttention(\n",
       "          (query): ParametrizedLinear(\n",
       "            in_features=768, out_features=768, bias=True\n",
       "            (parametrizations): ModuleDict(\n",
       "              (weight): ParametrizationList(\n",
       "                (0): LoRAParametrization()\n",
       "              )\n",
       "            )\n",
       "          )\n",
       "          (key): Linear(in_features=768, out_features=768, bias=False)\n",
       "          (value): Linear(in_features=768, out_features=768, bias=True)\n",
       "          (out): Linear(in_features=768, out_features=768, bias=True)\n",
       "        )\n",
       "        (attn_ln): LayerNorm((768,), eps=1e-05, elementwise_affine=True)\n",
       "        (cross_attn): MultiHeadAttention(\n",
       "          (query): ParametrizedLinear(\n",
       "            in_features=768, out_features=768, bias=True\n",
       "            (parametrizations): ModuleDict(\n",
       "              (weight): ParametrizationList(\n",
       "                (0): LoRAParametrization()\n",
       "              )\n",
       "            )\n",
       "          )\n",
       "          (key): Linear(in_features=768, out_features=768, bias=False)\n",
       "          (value): Linear(in_features=768, out_features=768, bias=True)\n",
       "          (out): Linear(in_features=768, out_features=768, bias=True)\n",
       "        )\n",
       "        (cross_attn_ln): LayerNorm((768,), eps=1e-05, elementwise_affine=True)\n",
       "        (mlp): Sequential(\n",
       "          (0): Linear(in_features=768, out_features=3072, bias=True)\n",
       "          (1): GELU(approximate='none')\n",
       "          (2): Linear(in_features=3072, out_features=768, bias=True)\n",
       "        )\n",
       "        (mlp_ln): LayerNorm((768,), eps=1e-05, elementwise_affine=True)\n",
       "      )\n",
       "    )\n",
       "    (ln): LayerNorm((768,), eps=1e-05, elementwise_affine=True)\n",
       "  )\n",
       ")"
      ]
     },
     "execution_count": 7,
     "metadata": {},
     "output_type": "execute_result"
    }
   ],
   "source": [
    "whisper_model"
   ]
  },
  {
   "cell_type": "code",
   "execution_count": null,
   "metadata": {},
   "outputs": [
    {
     "name": "stdout",
     "output_type": "stream",
     "text": [
      "Number of trainable parameters: 240,582,912 out of total 240,582,912.\n"
     ]
    }
   ],
   "source": [
    "print_trainable_parameters(whisper_model)"
   ]
  },
  {
   "cell_type": "code",
   "execution_count": null,
   "metadata": {},
   "outputs": [],
   "source": [
    "add_lora(whisper_model)"
   ]
  },
  {
   "cell_type": "code",
   "execution_count": null,
   "metadata": {},
   "outputs": [],
   "source": [
    "disable_all_but_parametrized_grads(whisper_model)"
   ]
  },
  {
   "cell_type": "code",
   "execution_count": null,
   "metadata": {},
   "outputs": [
    {
     "name": "stdout",
     "output_type": "stream",
     "text": [
      "Number of trainable parameters: 175,104 out of total 242,204,928.\n"
     ]
    }
   ],
   "source": [
    "print_trainable_parameters(whisper_model)"
   ]
  },
  {
   "cell_type": "code",
   "execution_count": null,
   "metadata": {},
   "outputs": [
    {
     "data": {
      "text/plain": [
       "Whisper(\n",
       "  (encoder): AudioEncoder(\n",
       "    (conv1): Conv1d(80, 768, kernel_size=(3,), stride=(1,), padding=(1,))\n",
       "    (conv2): Conv1d(768, 768, kernel_size=(3,), stride=(2,), padding=(1,))\n",
       "    (blocks): ModuleList(\n",
       "      (0-11): 12 x ResidualAttentionBlock(\n",
       "        (attn): MultiHeadAttention(\n",
       "          (query): ParametrizedLinear(\n",
       "            in_features=768, out_features=768, bias=True\n",
       "            (parametrizations): ModuleDict(\n",
       "              (weight): ParametrizationList(\n",
       "                (0): LoRAParametrization()\n",
       "              )\n",
       "            )\n",
       "          )\n",
       "          (key): ParametrizedLinear(\n",
       "            in_features=768, out_features=768, bias=False\n",
       "            (parametrizations): ModuleDict(\n",
       "              (weight): ParametrizationList(\n",
       "                (0): LoRAParametrization()\n",
       "              )\n",
       "            )\n",
       "          )\n",
       "          (value): ParametrizedLinear(\n",
       "            in_features=768, out_features=768, bias=True\n",
       "            (parametrizations): ModuleDict(\n",
       "              (weight): ParametrizationList(\n",
       "                (0): LoRAParametrization()\n",
       "              )\n",
       "            )\n",
       "          )\n",
       "          (out): ParametrizedLinear(\n",
       "            in_features=768, out_features=768, bias=True\n",
       "            (parametrizations): ModuleDict(\n",
       "              (weight): ParametrizationList(\n",
       "                (0): LoRAParametrization()\n",
       "              )\n",
       "            )\n",
       "          )\n",
       "        )\n",
       "        (attn_ln): LayerNorm((768,), eps=1e-05, elementwise_affine=True)\n",
       "        (mlp): Sequential(\n",
       "          (0): ParametrizedLinear(\n",
       "            in_features=768, out_features=3072, bias=True\n",
       "            (parametrizations): ModuleDict(\n",
       "              (weight): ParametrizationList(\n",
       "                (0): LoRAParametrization()\n",
       "              )\n",
       "            )\n",
       "          )\n",
       "          (1): GELU(approximate='none')\n",
       "          (2): ParametrizedLinear(\n",
       "            in_features=3072, out_features=768, bias=True\n",
       "            (parametrizations): ModuleDict(\n",
       "              (weight): ParametrizationList(\n",
       "                (0): LoRAParametrization()\n",
       "              )\n",
       "            )\n",
       "          )\n",
       "        )\n",
       "        (mlp_ln): LayerNorm((768,), eps=1e-05, elementwise_affine=True)\n",
       "      )\n",
       "    )\n",
       "    (ln_post): LayerNorm((768,), eps=1e-05, elementwise_affine=True)\n",
       "  )\n",
       "  (decoder): TextDecoder(\n",
       "    (token_embedding): Embedding(51865, 768)\n",
       "    (blocks): ModuleList(\n",
       "      (0-11): 12 x ResidualAttentionBlock(\n",
       "        (attn): MultiHeadAttention(\n",
       "          (query): ParametrizedLinear(\n",
       "            in_features=768, out_features=768, bias=True\n",
       "            (parametrizations): ModuleDict(\n",
       "              (weight): ParametrizationList(\n",
       "                (0): LoRAParametrization()\n",
       "              )\n",
       "            )\n",
       "          )\n",
       "          (key): ParametrizedLinear(\n",
       "            in_features=768, out_features=768, bias=False\n",
       "            (parametrizations): ModuleDict(\n",
       "              (weight): ParametrizationList(\n",
       "                (0): LoRAParametrization()\n",
       "              )\n",
       "            )\n",
       "          )\n",
       "          (value): ParametrizedLinear(\n",
       "            in_features=768, out_features=768, bias=True\n",
       "            (parametrizations): ModuleDict(\n",
       "              (weight): ParametrizationList(\n",
       "                (0): LoRAParametrization()\n",
       "              )\n",
       "            )\n",
       "          )\n",
       "          (out): ParametrizedLinear(\n",
       "            in_features=768, out_features=768, bias=True\n",
       "            (parametrizations): ModuleDict(\n",
       "              (weight): ParametrizationList(\n",
       "                (0): LoRAParametrization()\n",
       "              )\n",
       "            )\n",
       "          )\n",
       "        )\n",
       "        (attn_ln): LayerNorm((768,), eps=1e-05, elementwise_affine=True)\n",
       "        (cross_attn): MultiHeadAttention(\n",
       "          (query): ParametrizedLinear(\n",
       "            in_features=768, out_features=768, bias=True\n",
       "            (parametrizations): ModuleDict(\n",
       "              (weight): ParametrizationList(\n",
       "                (0): LoRAParametrization()\n",
       "              )\n",
       "            )\n",
       "          )\n",
       "          (key): ParametrizedLinear(\n",
       "            in_features=768, out_features=768, bias=False\n",
       "            (parametrizations): ModuleDict(\n",
       "              (weight): ParametrizationList(\n",
       "                (0): LoRAParametrization()\n",
       "              )\n",
       "            )\n",
       "          )\n",
       "          (value): ParametrizedLinear(\n",
       "            in_features=768, out_features=768, bias=True\n",
       "            (parametrizations): ModuleDict(\n",
       "              (weight): ParametrizationList(\n",
       "                (0): LoRAParametrization()\n",
       "              )\n",
       "            )\n",
       "          )\n",
       "          (out): ParametrizedLinear(\n",
       "            in_features=768, out_features=768, bias=True\n",
       "            (parametrizations): ModuleDict(\n",
       "              (weight): ParametrizationList(\n",
       "                (0): LoRAParametrization()\n",
       "              )\n",
       "            )\n",
       "          )\n",
       "        )\n",
       "        (cross_attn_ln): LayerNorm((768,), eps=1e-05, elementwise_affine=True)\n",
       "        (mlp): Sequential(\n",
       "          (0): ParametrizedLinear(\n",
       "            in_features=768, out_features=3072, bias=True\n",
       "            (parametrizations): ModuleDict(\n",
       "              (weight): ParametrizationList(\n",
       "                (0): LoRAParametrization()\n",
       "              )\n",
       "            )\n",
       "          )\n",
       "          (1): GELU(approximate='none')\n",
       "          (2): ParametrizedLinear(\n",
       "            in_features=3072, out_features=768, bias=True\n",
       "            (parametrizations): ModuleDict(\n",
       "              (weight): ParametrizationList(\n",
       "                (0): LoRAParametrization()\n",
       "              )\n",
       "            )\n",
       "          )\n",
       "        )\n",
       "        (mlp_ln): LayerNorm((768,), eps=1e-05, elementwise_affine=True)\n",
       "      )\n",
       "    )\n",
       "    (ln): LayerNorm((768,), eps=1e-05, elementwise_affine=True)\n",
       "  )\n",
       ")"
      ]
     },
     "execution_count": 55,
     "metadata": {},
     "output_type": "execute_result"
    }
   ],
   "source": [
    "whisper_model"
   ]
  }
 ],
 "metadata": {
  "kernelspec": {
   "display_name": "whisper_finetune",
   "language": "python",
   "name": "python3"
  },
  "language_info": {
   "codemirror_mode": {
    "name": "ipython",
    "version": 3
   },
   "file_extension": ".py",
   "mimetype": "text/x-python",
   "name": "python",
   "nbconvert_exporter": "python",
   "pygments_lexer": "ipython3",
   "version": "3.9.18"
  }
 },
 "nbformat": 4,
 "nbformat_minor": 2
}
