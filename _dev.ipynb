{
 "cells": [
  {
   "cell_type": "code",
   "execution_count": 1,
   "metadata": {},
   "outputs": [
    {
     "name": "stderr",
     "output_type": "stream",
     "text": [
      "/home/kenfus/miniconda3/envs/whisper_finetune/lib/python3.9/site-packages/tqdm/auto.py:21: TqdmWarning: IProgress not found. Please update jupyter and ipywidgets. See https://ipywidgets.readthedocs.io/en/stable/user_install.html\n",
      "  from .autonotebook import tqdm as notebook_tqdm\n"
     ]
    }
   ],
   "source": [
    "import shutil\n",
    "from pathlib import Path\n",
    "import os\n",
    "os.environ[\"HF_HOME\"] = \"./cache/huggingface\"\n",
    "from ctranslate2.converters import TransformersConverter\n",
    "from transformers.models.whisper.convert_openai_to_hf import (\n",
    "    convert_openai_whisper_to_tfms,\n",
    ")\n"
   ]
  },
  {
   "cell_type": "code",
   "execution_count": 3,
   "metadata": {},
   "outputs": [
    {
     "name": "stdout",
     "output_type": "stream",
     "text": [
      "./downloaded_models/last_model.pt\n"
     ]
    }
   ],
   "source": [
    "import wandb\n",
    "\n",
    "def download_model_from_wandb(run_path: str, file_path: str, save_dir: str) -> str:\n",
    "    \"\"\"\n",
    "    Download a model file from Weights & Biases and return the local file path.\n",
    "\n",
    "    Parameters:\n",
    "    - run_path: str. Path to the W&B run, e.g., \"i4ds/whisper4sg/runs/28z8x0k4\".\n",
    "    - file_path: str. Path to the file in the W&B run, e.g., \"40569234_output/last_model.pt\".\n",
    "    - save_dir: str. Local directory to save the file.\n",
    "\n",
    "    Returns:\n",
    "    - str: The local path to the downloaded file.\n",
    "    \"\"\"\n",
    "    # Initialize W&B API\n",
    "    api = wandb.Api()\n",
    "\n",
    "    # Fetch the run\n",
    "    run = api.run(run_path)\n",
    "\n",
    "    # File save path\n",
    "    save_path = f\"{save_dir}/{file_path.split('/')[-1]}\"\n",
    "\n",
    "    # Download the file\n",
    "    run.file(file_path).download(root=save_dir, replace=True)\n",
    "\n",
    "    return save_path\n",
    "\n",
    "# Example usage\n",
    "run_path = \"i4ds/whisper4sg/runs/cg3uvr8p\"\n",
    "file_path = \"40549525_output/last_model.pt\"\n",
    "save_dir = \"./downloaded_models\"\n",
    "\n",
    "model_local_path = download_model_from_wandb(run_path, file_path, save_dir)\n",
    "print(model_local_path)\n"
   ]
  },
  {
   "cell_type": "code",
   "execution_count": null,
   "metadata": {},
   "outputs": [],
   "source": [
    "hf_model_folder = Path(save_dir, 'hf_model')\n",
    "hf_model_folder.mkdir(exist_ok=True)\n",
    "ctranslate2_model_folder = Path('ct2_output')\n",
    "\n",
    "# Convert to Huggingface Model\n",
    "hf_model = convert_openai_whisper_to_tfms(\"downloaded_models/40549525_output/last_model.pt\", hf_model_folder)"
   ]
  },
  {
   "cell_type": "code",
   "execution_count": 5,
   "metadata": {},
   "outputs": [
    {
     "name": "stderr",
     "output_type": "stream",
     "text": [
      "Some non-default generation parameters are set in the model config. These should go into a GenerationConfig file (https://huggingface.co/docs/transformers/generation_strategies#save-a-custom-decoding-strategy-with-your-model) instead. This warning will be raised to an exception in v4.41.\n",
      "Non-default generation parameters: {'begin_suppress_tokens': [220, 50256]}\n"
     ]
    }
   ],
   "source": [
    "hf_model[0].save_pretrained(hf_model_folder)"
   ]
  },
  {
   "cell_type": "code",
   "execution_count": 6,
   "metadata": {},
   "outputs": [
    {
     "name": "stderr",
     "output_type": "stream",
     "text": [
      "Loading checkpoint shards: 100%|██████████| 2/2 [00:04<00:00,  2.21s/it]\n",
      "Special tokens have been added in the vocabulary, make sure the associated word embeddings are fine-tuned or trained.\n"
     ]
    },
    {
     "data": {
      "text/plain": [
       "PosixPath('ct2_output')"
      ]
     },
     "execution_count": 6,
     "metadata": {},
     "output_type": "execute_result"
    }
   ],
   "source": [
    "\n",
    "shutil.copyfile(\"cache/tokenizer.json\", Path(hf_model_folder, \"tokenizer.json\"))\n",
    "shutil.copyfile(\"cache/config.json\", Path(hf_model_folder, \"config.json\"))\n",
    "\n",
    "# Convert to ctranslate2\n",
    "converter = TransformersConverter(\n",
    "    hf_model_folder,\n",
    "    copy_files=[\"tokenizer.json\"],\n",
    "    load_as_float16=True # in (\"float16\", \"int8_float16\"),\n",
    ")\n",
    "\n",
    "converter.convert(output_dir=ctranslate2_model_folder, quantization=\"float16\")"
   ]
  },
  {
   "cell_type": "code",
   "execution_count": 17,
   "metadata": {},
   "outputs": [],
   "source": [
    "from faster_whisper import WhisperModel"
   ]
  },
  {
   "cell_type": "code",
   "execution_count": 18,
   "metadata": {},
   "outputs": [
    {
     "name": "stderr",
     "output_type": "stream",
     "text": [
      "config.json: 100%|██████████| 12.1k/12.1k [00:00<00:00, 1.23MB/s]\n",
      "tokenizer.json: 100%|██████████| 2.48M/2.48M [00:00<00:00, 9.11MB/s]\n",
      "vocabulary.json: 100%|██████████| 1.07M/1.07M [00:00<00:00, 2.71MB/s]\n",
      "model.bin: 100%|██████████| 3.09G/3.09G [05:20<00:00, 9.65MB/s]\n"
     ]
    }
   ],
   "source": [
    "model = WhisperModel(\"i4ds/whisper4sg-1-folds\", device=\"cuda\", compute_type=\"float16\")"
   ]
  },
  {
   "cell_type": "code",
   "execution_count": 19,
   "metadata": {},
   "outputs": [],
   "source": [
    "segments, info = model.transcribe(\"01d2eb96-4aa2-488d-ae29-22a57c3acc10_79311_109311.mp3\", beam_size=5)"
   ]
  },
  {
   "cell_type": "code",
   "execution_count": 20,
   "metadata": {},
   "outputs": [
    {
     "name": "stdout",
     "output_type": "stream",
     "text": [
      "Detected language 'de' with probability 1.000000\n",
      "[0.00s -> 3.66s]  Nun findet derselbe Vorgang auf einem neuen Kontinent statt.\n",
      "[4.36s -> 9.26s]  Das ist logischerweise ein Gang in eine steigende Verschuldung.\n",
      "[9.88s -> 13.80s]  Ich bitte Sie, diesem Geschäft zuzustimmen.\n",
      "[15.86s -> 19.44s]  Dem Lithium wurde dabei Priorität eingeräumt.\n",
      "[21.28s -> 24.02s]  Diese Produkte liefern wir auch ins Ausland.\n",
      "[24.02s -> 27.78s]  Im Tennis gab es auch schon andere witzige Donner-Vorfälle.\n"
     ]
    }
   ],
   "source": [
    "print(\"Detected language '%s' with probability %f\" % (info.language, info.language_probability))\n",
    "\n",
    "for segment in segments:\n",
    "    print(\"[%.2fs -> %.2fs] %s\" % (segment.start, segment.end, segment.text))"
   ]
  },
  {
   "cell_type": "code",
   "execution_count": 11,
   "metadata": {},
   "outputs": [],
   "source": [
    "from huggingface_hub import HfApi"
   ]
  },
  {
   "cell_type": "code",
   "execution_count": 15,
   "metadata": {},
   "outputs": [
    {
     "name": "stderr",
     "output_type": "stream",
     "text": [
      "model.bin: 100%|██████████| 3.09G/3.09G [01:55<00:00, 26.7MB/s] \n"
     ]
    },
    {
     "data": {
      "text/plain": [
       "CommitInfo(commit_url='https://huggingface.co/i4ds/whisper4sg-1-folds/commit/f6ae5c721d2371fea6b7b02b97ce638811dc74a6', commit_message='Upload folder using huggingface_hub', commit_description='', oid='f6ae5c721d2371fea6b7b02b97ce638811dc74a6', pr_url=None, pr_revision=None, pr_num=None)"
      ]
     },
     "execution_count": 15,
     "metadata": {},
     "output_type": "execute_result"
    }
   ],
   "source": [
    "api = HfApi()\n",
    "api.upload_folder(\n",
    "    folder_path=\"ct2_output\",\n",
    "    repo_id=\"i4ds/whisper4sg-1-folds\",\n",
    "    repo_type='model',\n",
    ")"
   ]
  }
 ],
 "metadata": {
  "kernelspec": {
   "display_name": "whisper_finetune",
   "language": "python",
   "name": "python3"
  },
  "language_info": {
   "codemirror_mode": {
    "name": "ipython",
    "version": 3
   },
   "file_extension": ".py",
   "mimetype": "text/x-python",
   "name": "python",
   "nbconvert_exporter": "python",
   "pygments_lexer": "ipython3",
   "version": "3.9.18"
  }
 },
 "nbformat": 4,
 "nbformat_minor": 2
}
