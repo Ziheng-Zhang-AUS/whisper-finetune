{
 "cells": [
  {
   "cell_type": "code",
   "execution_count": 5,
   "metadata": {},
   "outputs": [],
   "source": [
    "import shutil\n",
    "from pathlib import Path\n",
    "import os\n",
    "os.environ[\"HF_HOME\"] = \"./cache/huggingface\"\n",
    "os.environ['TRANSFORMERS_CACHE'] = \"./cache/huggingface/t_cache\"\n",
    "import torch\n",
    "import whisper\n",
    "from minlora import add_lora, LoRAParametrization, merge_lora\n",
    "from whisper_finetune.utils import read_config\n",
    "\n",
    "from whisper_finetune.model.lora import (\n",
    "    disable_all_but_parametrized_grads,\n",
    ")\n",
    "from whisper.model import Linear as WLinear\n",
    "from functools import partial\n",
    "from ctranslate2.converters import TransformersConverter\n",
    "from whisper_finetune.model.model_utils import save_model\n",
    "from transformers.models.whisper.convert_openai_to_hf import (\n",
    "    convert_openai_whisper_to_tfms,\n",
    ")\n",
    "from huggingface_hub import HfApi\n",
    "from faster_whisper import WhisperModel"
   ]
  },
  {
   "cell_type": "code",
   "execution_count": 2,
   "metadata": {},
   "outputs": [
    {
     "name": "stdout",
     "output_type": "stream",
     "text": [
      "./downloaded_models/last_model.pt\n"
     ]
    }
   ],
   "source": [
    "import wandb\n",
    "\n",
    "def download_model_from_wandb(run_path: str, file_path: str, save_dir: str) -> str:\n",
    "    \"\"\"\n",
    "    Download a model file from Weights & Biases and return the local file path.\n",
    "\n",
    "    Parameters:\n",
    "    - run_path: str. Path to the W&B run, e.g., \"i4ds/whisper4sg/runs/28z8x0k4\".\n",
    "    - file_path: str. Path to the file in the W&B run, e.g., \"40569234_output/last_model.pt\".\n",
    "    - save_dir: str. Local directory to save the file.\n",
    "\n",
    "    Returns:\n",
    "    - str: The local path to the downloaded file.\n",
    "    \"\"\"\n",
    "    # Initialize W&B API\n",
    "    api = wandb.Api()\n",
    "\n",
    "    # Fetch the run\n",
    "    run = api.run(run_path)\n",
    "\n",
    "    # File save path\n",
    "    save_path = f\"{save_dir}/{file_path.split('/')[-1]}\"\n",
    "\n",
    "    # Download the file\n",
    "    run.file(file_path).download(root=save_dir, replace=True)\n",
    "\n",
    "    return save_path\n",
    "\n",
    "# Example usage\n",
    "run_path = \"i4ds/whisper4sg/runs/zli3sf8y\"\n",
    "file_path = \"52966296_output/last_model.pt\"\n",
    "save_dir = \"./downloaded_models\"\n",
    "hu_model_path = \"i4ds/whisper4sg-sg-lora\"\n",
    "merge_cp_dumb = save_dir+'/' +file_path.split('/')[0]+'/merged.pt'\n",
    "\n",
    "model_local_path = download_model_from_wandb(run_path, file_path, save_dir)\n",
    "print(model_local_path)"
   ]
  },
  {
   "cell_type": "code",
   "execution_count": 6,
   "metadata": {},
   "outputs": [],
   "source": [
    "whisper_model = whisper.load_model('large-v2', 'cpu')"
   ]
  },
  {
   "cell_type": "code",
   "execution_count": 7,
   "metadata": {},
   "outputs": [],
   "source": [
    "config = read_config('configs/large-lora-decoder-mp-sg-corpus.yaml')"
   ]
  },
  {
   "cell_type": "code",
   "execution_count": 8,
   "metadata": {},
   "outputs": [],
   "source": [
    "# Create LORA config\n",
    "lora_config = {\n",
    "    WLinear: {\n",
    "        \"weight\": partial(LoRAParametrization.from_linear, **config[\"model\"][\"lora_config\"]),\n",
    "    },\n",
    "}\n",
    "if config['training']['train_only_decoder']:\n",
    "    add_lora(whisper_model.decoder, lora_config=lora_config)\n",
    "else:\n",
    "    add_lora(whisper_model, lora_config=lora_config)\n",
    "disable_all_but_parametrized_grads(whisper_model)"
   ]
  },
  {
   "cell_type": "code",
   "execution_count": 9,
   "metadata": {},
   "outputs": [
    {
     "data": {
      "text/plain": [
       "<All keys matched successfully>"
      ]
     },
     "execution_count": 9,
     "metadata": {},
     "output_type": "execute_result"
    }
   ],
   "source": [
    "last_model = torch.load(f'{save_dir}/{file_path}')\n",
    "whisper_model.load_state_dict(last_model['model_state_dict'])"
   ]
  },
  {
   "cell_type": "code",
   "execution_count": 12,
   "metadata": {},
   "outputs": [],
   "source": [
    "merge_lora(whisper_model)\n",
    "save_model(whisper_model, merge_cp_dumb)"
   ]
  },
  {
   "cell_type": "code",
   "execution_count": null,
   "metadata": {},
   "outputs": [],
   "source": [
    "hf_model_folder = Path(save_dir, 'hf_model')\n",
    "hf_model_folder.mkdir(exist_ok=True)\n",
    "ctranslate2_model_folder = Path('ct2_output')\n",
    "\n",
    "# Convert to Huggingface Model\n",
    "hf_model = convert_openai_whisper_to_tfms(merge_cp_dumb, hf_model_folder)"
   ]
  },
  {
   "cell_type": "code",
   "execution_count": 14,
   "metadata": {},
   "outputs": [
    {
     "name": "stderr",
     "output_type": "stream",
     "text": [
      "Some non-default generation parameters are set in the model config. These should go into a GenerationConfig file (https://huggingface.co/docs/transformers/generation_strategies#save-a-custom-decoding-strategy-with-your-model) instead. This warning will be raised to an exception in v4.41.\n",
      "Non-default generation parameters: {'begin_suppress_tokens': [220, 50256]}\n"
     ]
    }
   ],
   "source": [
    "hf_model[0].save_pretrained(hf_model_folder)"
   ]
  },
  {
   "cell_type": "code",
   "execution_count": 15,
   "metadata": {},
   "outputs": [
    {
     "name": "stderr",
     "output_type": "stream",
     "text": [
      "Loading checkpoint shards: 100%|██████████| 2/2 [04:28<00:00, 134.18s/it]\n",
      "Special tokens have been added in the vocabulary, make sure the associated word embeddings are fine-tuned or trained.\n"
     ]
    },
    {
     "data": {
      "text/plain": [
       "PosixPath('ct2_output')"
      ]
     },
     "execution_count": 15,
     "metadata": {},
     "output_type": "execute_result"
    }
   ],
   "source": [
    "shutil.copyfile(\"cache/tokenizer.json\", Path(hf_model_folder, \"tokenizer.json\"))\n",
    "shutil.copyfile(\"cache/config.json\", Path(hf_model_folder, \"config.json\"))\n",
    "\n",
    "# Create readme\n",
    "readme_content = f\"\"\"\n",
    "# Model Information\n",
    "\n",
    "This folder contains a converted model using ctranslate2.\n",
    "\n",
    "## Wandb log\n",
    "https://wandb.ai/{run_path}\n",
    "\n",
    "## Files\n",
    "- `tokenizer.json`: Tokenizer file.\n",
    "- `config.json`: Configuration file.\n",
    "\n",
    "## Conversion Details\n",
    "The model was converted to ctranslate2 format with float16 quantization.\n",
    "\n",
    "## Data\n",
    "Model was trained on the full sg corpus, with part of the mozilla common voice 13.0 dataset and SRG data translated by faster-whisper-v2.\n",
    "\"\"\"\n",
    "with open(Path(hf_model_folder, \"README.md\"), 'w') as f:\n",
    "    f.write(readme_content)\n",
    "\n",
    "# Convert to ctranslate2\n",
    "converter = TransformersConverter(\n",
    "    hf_model_folder,\n",
    "    copy_files=[\"tokenizer.json\", \"README.md\"],\n",
    "    load_as_float16=True \n",
    ")\n",
    "\n",
    "converter.convert(output_dir=ctranslate2_model_folder, quantization=\"float16\", force=True)"
   ]
  },
  {
   "cell_type": "code",
   "execution_count": 18,
   "metadata": {},
   "outputs": [
    {
     "name": "stderr",
     "output_type": "stream",
     "text": [
      "model.bin: 100%|██████████| 3.09G/3.09G [03:49<00:00, 13.5MB/s] \n"
     ]
    },
    {
     "data": {
      "text/plain": [
       "CommitInfo(commit_url='https://huggingface.co/i4ds/whisper4sg-sg-lora/commit/63775637746e5eae42ed8868abbff1c5dee4cfe3', commit_message='Upload folder using huggingface_hub', commit_description='', oid='63775637746e5eae42ed8868abbff1c5dee4cfe3', pr_url=None, pr_revision=None, pr_num=None)"
      ]
     },
     "execution_count": 18,
     "metadata": {},
     "output_type": "execute_result"
    }
   ],
   "source": [
    "api = HfApi()\n",
    "api.upload_folder(\n",
    "    folder_path=\"ct2_output\",\n",
    "    repo_id=hu_model_path,\n",
    "    repo_type='model',\n",
    ")"
   ]
  },
  {
   "cell_type": "code",
   "execution_count": 19,
   "metadata": {},
   "outputs": [
    {
     "name": "stderr",
     "output_type": "stream",
     "text": [
      "config.json: 100%|██████████| 12.1k/12.1k [00:00<00:00, 566kB/s]\n",
      "\n",
      "tokenizer.json: 100%|██████████| 2.48M/2.48M [00:00<00:00, 7.37MB/s]\n",
      "\n",
      "vocabulary.json: 100%|██████████| 1.07M/1.07M [00:00<00:00, 5.73MB/s]\n",
      "model.bin: 100%|██████████| 3.09G/3.09G [02:33<00:00, 20.1MB/s]\n"
     ]
    }
   ],
   "source": [
    "model = WhisperModel(hu_model_path, device=\"cuda\", compute_type=\"float16\")"
   ]
  },
  {
   "cell_type": "code",
   "execution_count": 20,
   "metadata": {},
   "outputs": [],
   "source": [
    "segments, info = model.transcribe(\"Schönleber_1.mp3\", beam_size=5, language='de')"
   ]
  },
  {
   "cell_type": "code",
   "execution_count": 23,
   "metadata": {},
   "outputs": [],
   "source": [
    "# to use pysubs2, the argument must be a segment list-of-dicts\n",
    "results= []\n",
    "for s in segments:\n",
    "    segment_dict = {'start':s.start,'end':s.end,'text':s.text}\n",
    "    results.append(segment_dict)"
   ]
  },
  {
   "cell_type": "code",
   "execution_count": 34,
   "metadata": {},
   "outputs": [],
   "source": [
    "import pysubs2\n",
    "\n",
    "subs = pysubs2.load_from_whisper(results)\n",
    "subs.save('Schönleber_1.srt')"
   ]
  }
 ],
 "metadata": {
  "kernelspec": {
   "display_name": "whisper_finetune",
   "language": "python",
   "name": "python3"
  },
  "language_info": {
   "codemirror_mode": {
    "name": "ipython",
    "version": 3
   },
   "file_extension": ".py",
   "mimetype": "text/x-python",
   "name": "python",
   "nbconvert_exporter": "python",
   "pygments_lexer": "ipython3",
   "version": "3.9.18"
  }
 },
 "nbformat": 4,
 "nbformat_minor": 2
}
